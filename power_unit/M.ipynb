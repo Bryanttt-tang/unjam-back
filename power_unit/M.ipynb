{
 "cells": [
  {
   "cell_type": "code",
   "execution_count": 1,
   "id": "1639e57f-b9d7-4ea7-9fd3-deed87fb70e3",
   "metadata": {},
   "outputs": [],
   "source": [
    "import numpy as np\n",
    "import networkx as nx"
   ]
  },
  {
   "cell_type": "code",
   "execution_count": 34,
   "id": "f6e07c59-e537-46a5-958b-a41c9a85637b",
   "metadata": {
    "scrolled": true
   },
   "outputs": [
    {
     "name": "stdout",
     "output_type": "stream",
     "text": [
      "M:\n",
      " [[ 0. -1.  0.  0.  0.  1.]\n",
      " [ 0.  0.  0. -1.  1.  0.]]\n",
      "[2. 0.]\n",
      "[0. 2.]\n",
      "M_inv [[0.5 0. ]\n",
      " [0.  0.5]]\n",
      "Inter:\n",
      " [[ 0.   0.   0.   0.   0.   0. ]\n",
      " [ 0.   0.5  0.   0.   0.  -0.5]\n",
      " [ 0.   0.   0.   0.   0.   0. ]\n",
      " [ 0.   0.   0.   0.5 -0.5  0. ]\n",
      " [ 0.   0.   0.  -0.5  0.5  0. ]\n",
      " [ 0.  -0.5  0.   0.   0.   0.5]]\n"
     ]
    }
   ],
   "source": [
    "second_indices = []\n",
    "excluded_indices=[]\n",
    "base_index = 0\n",
    "excluded_indices.append(base_index)\n",
    "v=2\n",
    "e=(v-1)*2\n",
    "m_dis=v+e\n",
    "q_dis=m_dis+v\n",
    "def create_connected_graph(n):\n",
    "    G = nx.path_graph(n)\n",
    "    return G\n",
    "def add_random_edge(G):\n",
    "        nodes = list(G.nodes())\n",
    "        n = len(nodes)\n",
    "        max_edges = n * (n - 1) // 2  # Maximum number of edges in a complete graph\n",
    "\n",
    "        if G.number_of_edges() == max_edges:\n",
    "            print(\"Already a complete graph\")\n",
    "            return\n",
    "\n",
    "        while True:\n",
    "            u, v = np.random.choice(nodes, 2, replace=False)  # Randomly select two distinct nodes\n",
    "            if not G.has_edge(u, v):  # Check if the edge does not already exist\n",
    "                G.add_edge(u, v)  # Add the new edge to the graph\n",
    "                break  # Exit the loop once a new edge is added\n",
    "def increase_edge_connectivity(G, target_connectivity):\n",
    "        \"\"\"\n",
    "        Increase the edge connectivity of the graph G to the target_connectivity.\n",
    "        \"\"\"\n",
    "        current_connectivity = nx.edge_connectivity(G)\n",
    "        \n",
    "        while current_connectivity < target_connectivity:\n",
    "            add_random_edge(G)\n",
    "            current_connectivity = nx.edge_connectivity(G)  \n",
    "graph=create_connected_graph(v) \n",
    "#while graph.number_of_edges() <= (v * (v - 1)) // 2:\n",
    "#increase_edge_connectivity(graph, 3)\n",
    "for i in range(v-1):\n",
    "    neighbors_ex = sorted(graph.neighbors(i))\n",
    "    base_index += len(neighbors_ex)+1\n",
    "    excluded_indices.append(base_index)\n",
    "first_indices = [i for i in np.arange(m_dis) if i not in excluded_indices]\n",
    "node_to_index = {node: v + 2 * len(graph.edges) + idx for idx, node in enumerate(graph.nodes())}\n",
    "\n",
    "for i in range(v):\n",
    "    neighbors = sorted(graph.neighbors(i))\n",
    "    # print(neighbors)\n",
    "    for j in neighbors:\n",
    "            # Update second_indices using the mapping\n",
    "        second_indices.append(node_to_index[j])\n",
    "# print(excluded_indices)\n",
    "# print(first_indices)\n",
    "# print(second_indices)\n",
    "# Create pairs using broadcasting\n",
    "pairs = np.transpose([first_indices, second_indices])\n",
    "# print('pairs: \\n',pairs)\n",
    "# Initialize the kernel matrix M\n",
    "M = np.zeros(( len(pairs), q_dis))\n",
    "# Assign -1 and 1 to the corresponding places in M\n",
    "for i, (idx1, idx2) in enumerate(pairs):\n",
    "    M[i, idx1] = -1\n",
    "    M[i, idx2] = 1\n",
    "M_inv=np.linalg.inv(M@M.T)  \n",
    "print('M:\\n',M)\n",
    "for i in range(M.shape[0]):\n",
    "    print((M@M.T)[i,:])\n",
    "print('M_inv',M_inv)\n",
    "print('Inter:\\n',M.T@M_inv@M)"
   ]
  },
  {
   "cell_type": "code",
   "execution_count": null,
   "id": "3021c783-bd95-4b16-a8fd-a810ea415e12",
   "metadata": {},
   "outputs": [],
   "source": [
    "data = np.load('mfddata.npy')\n",
    "\n",
    "# Assuming the data is in the form of two columns: [density, flow]\n",
    "densities = data[:, 0]  # First column\n",
    "flows = data[:, 1]      # Second column\n",
    "\n",
    "# Create the scatter plot\n",
    "plt.scatter(densities, flows, alpha=0.5, edgecolors='w', s=100)\n",
    "plt.xlabel('Average Density (veh/km)')\n",
    "plt.ylabel('Average Flow (veh/hr)')\n",
    "plt.title('Macroscopic Fundamental Diagram (MFD)')\n",
    "plt.grid(True)\n",
    "plt.show()"
   ]
  },
  {
   "cell_type": "code",
   "execution_count": 12,
   "id": "c0fc9691-d9b3-4efd-b4b2-64b395c11628",
   "metadata": {},
   "outputs": [
    {
     "data": {
      "text/plain": [
       "'D:\\\\Thesis\\\\unjam\\\\power_unit'"
      ]
     },
     "execution_count": 12,
     "metadata": {},
     "output_type": "execute_result"
    }
   ],
   "source": [
    "pwd"
   ]
  },
  {
   "cell_type": "code",
   "execution_count": null,
   "id": "1e83d63a-cb37-415b-8050-61c80b1593c4",
   "metadata": {},
   "outputs": [],
   "source": [
    "data = np.load('mfddata.npy')\n",
    "\n",
    "# Assuming the data is in the form of two columns: [density, flow]\n",
    "densities = data[:, 0]  # First column\n",
    "flows = data[:, 1]      # Second column\n",
    "\n",
    "# Create the scatter plot\n",
    "plt.scatter(densities, flows, alpha=0.5, edgecolors='w', s=100)\n",
    "plt.xlabel('Average Density (veh/km)')\n",
    "plt.ylabel('Average Flow (veh/hr)')\n",
    "plt.title('Macroscopic Fundamental Diagram (MFD)')\n",
    "plt.grid(True)\n",
    "plt.show()"
   ]
  }
 ],
 "metadata": {
  "kernelspec": {
   "display_name": "Python 3 (ipykernel)",
   "language": "python",
   "name": "python3"
  },
  "language_info": {
   "codemirror_mode": {
    "name": "ipython",
    "version": 3
   },
   "file_extension": ".py",
   "mimetype": "text/x-python",
   "name": "python",
   "nbconvert_exporter": "python",
   "pygments_lexer": "ipython3",
   "version": "3.12.4"
  }
 },
 "nbformat": 4,
 "nbformat_minor": 5
}
