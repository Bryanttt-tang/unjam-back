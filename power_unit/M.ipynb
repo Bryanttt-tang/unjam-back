{
 "cells": [
  {
   "cell_type": "code",
   "execution_count": 1,
   "id": "1639e57f-b9d7-4ea7-9fd3-deed87fb70e3",
   "metadata": {},
   "outputs": [],
   "source": [
    "import numpy as np\n",
    "import networkx as nx"
   ]
  },
  {
   "cell_type": "code",
   "execution_count": 13,
   "id": "f6e07c59-e537-46a5-958b-a41c9a85637b",
   "metadata": {
    "scrolled": true
   },
   "outputs": [
    {
     "name": "stdout",
     "output_type": "stream",
     "text": [
      "M:\n",
      " [[ 0. -1.  0.  0.  0.  0.  0.  0.  1.  0.]\n",
      " [ 0.  0.  0. -1.  0.  0.  0.  1.  0.  0.]\n",
      " [ 0.  0.  0.  0. -1.  0.  0.  0.  0.  1.]\n",
      " [ 0.  0.  0.  0.  0.  0. -1.  0.  1.  0.]]\n",
      "[2. 0. 0. 1.]\n",
      "[0. 2. 0. 0.]\n",
      "[0. 0. 2. 0.]\n",
      "[1. 0. 0. 2.]\n",
      "Projection:\n",
      " [[1.         0.         0.         0.         0.         0.\n",
      "  0.         0.         0.         0.        ]\n",
      " [0.         0.33333333 0.         0.         0.         0.\n",
      "  0.33333333 0.         0.33333333 0.        ]\n",
      " [0.         0.         1.         0.         0.         0.\n",
      "  0.         0.         0.         0.        ]\n",
      " [0.         0.         0.         0.5        0.         0.\n",
      "  0.         0.5        0.         0.        ]\n",
      " [0.         0.         0.         0.         0.5        0.\n",
      "  0.         0.         0.         0.5       ]\n",
      " [0.         0.         0.         0.         0.         1.\n",
      "  0.         0.         0.         0.        ]\n",
      " [0.         0.33333333 0.         0.         0.         0.\n",
      "  0.33333333 0.         0.33333333 0.        ]\n",
      " [0.         0.         0.         0.5        0.         0.\n",
      "  0.         0.5        0.         0.        ]\n",
      " [0.         0.33333333 0.         0.         0.         0.\n",
      "  0.33333333 0.         0.33333333 0.        ]\n",
      " [0.         0.         0.         0.         0.5        0.\n",
      "  0.         0.         0.         0.5       ]]\n",
      "Projection square:\n",
      " [[ 0.00000000e+00  0.00000000e+00  0.00000000e+00  0.00000000e+00\n",
      "   0.00000000e+00  0.00000000e+00  0.00000000e+00  0.00000000e+00\n",
      "   0.00000000e+00  0.00000000e+00]\n",
      " [ 0.00000000e+00 -5.55111512e-17  0.00000000e+00  0.00000000e+00\n",
      "   0.00000000e+00  0.00000000e+00  0.00000000e+00  0.00000000e+00\n",
      "   0.00000000e+00  0.00000000e+00]\n",
      " [ 0.00000000e+00  0.00000000e+00  0.00000000e+00  0.00000000e+00\n",
      "   0.00000000e+00  0.00000000e+00  0.00000000e+00  0.00000000e+00\n",
      "   0.00000000e+00  0.00000000e+00]\n",
      " [ 0.00000000e+00  0.00000000e+00  0.00000000e+00  0.00000000e+00\n",
      "   0.00000000e+00  0.00000000e+00  0.00000000e+00  0.00000000e+00\n",
      "   0.00000000e+00  0.00000000e+00]\n",
      " [ 0.00000000e+00  0.00000000e+00  0.00000000e+00  0.00000000e+00\n",
      "   0.00000000e+00  0.00000000e+00  0.00000000e+00  0.00000000e+00\n",
      "   0.00000000e+00  0.00000000e+00]\n",
      " [ 0.00000000e+00  0.00000000e+00  0.00000000e+00  0.00000000e+00\n",
      "   0.00000000e+00  0.00000000e+00  0.00000000e+00  0.00000000e+00\n",
      "   0.00000000e+00  0.00000000e+00]\n",
      " [ 0.00000000e+00  0.00000000e+00  0.00000000e+00  0.00000000e+00\n",
      "   0.00000000e+00  0.00000000e+00 -5.55111512e-17  0.00000000e+00\n",
      "   5.55111512e-17  0.00000000e+00]\n",
      " [ 0.00000000e+00  0.00000000e+00  0.00000000e+00  0.00000000e+00\n",
      "   0.00000000e+00  0.00000000e+00  0.00000000e+00  0.00000000e+00\n",
      "   0.00000000e+00  0.00000000e+00]\n",
      " [ 0.00000000e+00  0.00000000e+00  0.00000000e+00  0.00000000e+00\n",
      "   0.00000000e+00  0.00000000e+00  0.00000000e+00  0.00000000e+00\n",
      "   0.00000000e+00  0.00000000e+00]\n",
      " [ 0.00000000e+00  0.00000000e+00  0.00000000e+00  0.00000000e+00\n",
      "   0.00000000e+00  0.00000000e+00  0.00000000e+00  0.00000000e+00\n",
      "   0.00000000e+00  0.00000000e+00]]\n",
      "[[ 0.00000000e+00  0.00000000e+00  0.00000000e+00  0.00000000e+00]\n",
      " [-5.55111512e-17  0.00000000e+00  0.00000000e+00  0.00000000e+00]\n",
      " [ 0.00000000e+00  0.00000000e+00  0.00000000e+00  0.00000000e+00]\n",
      " [ 0.00000000e+00  0.00000000e+00  0.00000000e+00  0.00000000e+00]\n",
      " [ 0.00000000e+00  0.00000000e+00  0.00000000e+00  0.00000000e+00]\n",
      " [ 0.00000000e+00  0.00000000e+00  0.00000000e+00  0.00000000e+00]\n",
      " [ 0.00000000e+00  0.00000000e+00  0.00000000e+00 -5.55111512e-17]\n",
      " [ 0.00000000e+00  0.00000000e+00  0.00000000e+00  0.00000000e+00]\n",
      " [ 5.55111512e-17  0.00000000e+00  0.00000000e+00  5.55111512e-17]\n",
      " [ 0.00000000e+00  0.00000000e+00  0.00000000e+00  0.00000000e+00]]\n"
     ]
    },
    {
     "data": {
      "text/plain": [
       "5.551115123125783e-17"
      ]
     },
     "execution_count": 13,
     "metadata": {},
     "output_type": "execute_result"
    }
   ],
   "source": [
    "second_indices = []\n",
    "excluded_indices=[]\n",
    "base_index = 0\n",
    "excluded_indices.append(base_index)\n",
    "v=3\n",
    "e=(v-1)*2\n",
    "m_dis=v+e\n",
    "q_dis=m_dis+v\n",
    "def create_connected_graph(n):\n",
    "    G = nx.path_graph(n)\n",
    "    return G\n",
    "def add_random_edge(G):\n",
    "        nodes = list(G.nodes())\n",
    "        n = len(nodes)\n",
    "        max_edges = n * (n - 1) // 2  # Maximum number of edges in a complete graph\n",
    "\n",
    "        if G.number_of_edges() == max_edges:\n",
    "            print(\"Already a complete graph\")\n",
    "            return\n",
    "\n",
    "        while True:\n",
    "            u, v = np.random.choice(nodes, 2, replace=False)  # Randomly select two distinct nodes\n",
    "            if not G.has_edge(u, v):  # Check if the edge does not already exist\n",
    "                G.add_edge(u, v)  # Add the new edge to the graph\n",
    "                break  # Exit the loop once a new edge is added\n",
    "def increase_edge_connectivity(G, target_connectivity):\n",
    "        \"\"\"\n",
    "        Increase the edge connectivity of the graph G to the target_connectivity.\n",
    "        \"\"\"\n",
    "        current_connectivity = nx.edge_connectivity(G)\n",
    "        \n",
    "        while current_connectivity < target_connectivity:\n",
    "            add_random_edge(G)\n",
    "            current_connectivity = nx.edge_connectivity(G)  \n",
    "graph=create_connected_graph(v) \n",
    "#while graph.number_of_edges() <= (v * (v - 1)) // 2:\n",
    "#increase_edge_connectivity(graph, 3)\n",
    "for i in range(v-1):\n",
    "    neighbors_ex = sorted(graph.neighbors(i))\n",
    "    base_index += len(neighbors_ex)+1\n",
    "    excluded_indices.append(base_index)\n",
    "first_indices = [i for i in np.arange(m_dis) if i not in excluded_indices]\n",
    "node_to_index = {node: v + 2 * len(graph.edges) + idx for idx, node in enumerate(graph.nodes())}\n",
    "\n",
    "for i in range(v):\n",
    "    neighbors = sorted(graph.neighbors(i))\n",
    "    # print(neighbors)\n",
    "    for j in neighbors:\n",
    "            # Update second_indices using the mapping\n",
    "        second_indices.append(node_to_index[j])\n",
    "# print(excluded_indices)\n",
    "# print(first_indices)\n",
    "# print(second_indices)\n",
    "# Create pairs using broadcasting\n",
    "pairs = np.transpose([first_indices, second_indices])\n",
    "# print('pairs: \\n',pairs)\n",
    "# Initialize the kernel matrix M\n",
    "M = np.zeros(( len(pairs), q_dis))\n",
    "# Assign -1 and 1 to the corresponding places in M\n",
    "for i, (idx1, idx2) in enumerate(pairs):\n",
    "    M[i, idx1] = -1\n",
    "    M[i, idx2] = 1\n",
    "M_inv=np.linalg.inv(M@M.T)  \n",
    "print('M:\\n',M)\n",
    "for i in range(M.shape[0]):\n",
    "    print((M@M.T)[i,:])\n",
    "#print('M_inv',M_inv)\n",
    "#print('Inter:\\n',M.T@M_inv@M)\n",
    "#print('Projection:\\n',np.eye(M.shape[1])-M.T@M_inv@M)\n",
    "P=np.eye(M.shape[1])-M.T@M_inv@M\n",
    "print('Projection:\\n',P)\n",
    "print('Projection square:\\n',P@P-P)\n",
    "# for i in range(M.shape[0]):\n",
    "    # print(P@M.T[:,i])\n",
    "print(P@M.T)\n",
    "np.max(P@M.T)"
   ]
  },
  {
   "cell_type": "code",
   "execution_count": 5,
   "id": "ec5efe76-ca08-4338-9a96-b234d40cdffb",
   "metadata": {},
   "outputs": [
    {
     "data": {
      "text/plain": [
       "array([[ 2, -2],\n",
       "       [-2,  2]])"
      ]
     },
     "execution_count": 5,
     "metadata": {},
     "output_type": "execute_result"
    }
   ],
   "source": [
    "B=np.array([[-1,1],[1,-1]])\n",
    "B@B.T"
   ]
  },
  {
   "cell_type": "code",
   "execution_count": null,
   "id": "3021c783-bd95-4b16-a8fd-a810ea415e12",
   "metadata": {},
   "outputs": [],
   "source": [
    "data = np.load('mfddata.npy')\n",
    "\n",
    "# Assuming the data is in the form of two columns: [density, flow]\n",
    "densities = data[:, 0]  # First column\n",
    "flows = data[:, 1]      # Second column\n",
    "\n",
    "# Create the scatter plot\n",
    "plt.scatter(densities, flows, alpha=0.5, edgecolors='w', s=100)\n",
    "plt.xlabel('Average Density (veh/km)')\n",
    "plt.ylabel('Average Flow (veh/hr)')\n",
    "plt.title('Macroscopic Fundamental Diagram (MFD)')\n",
    "plt.grid(True)\n",
    "plt.show()"
   ]
  },
  {
   "cell_type": "code",
   "execution_count": 12,
   "id": "c0fc9691-d9b3-4efd-b4b2-64b395c11628",
   "metadata": {},
   "outputs": [
    {
     "data": {
      "text/plain": [
       "'D:\\\\Thesis\\\\unjam\\\\power_unit'"
      ]
     },
     "execution_count": 12,
     "metadata": {},
     "output_type": "execute_result"
    }
   ],
   "source": [
    "pwd"
   ]
  },
  {
   "cell_type": "code",
   "execution_count": null,
   "id": "1e83d63a-cb37-415b-8050-61c80b1593c4",
   "metadata": {},
   "outputs": [],
   "source": [
    "data = np.load('mfddata.npy')\n",
    "\n",
    "# Assuming the data is in the form of two columns: [density, flow]\n",
    "densities = data[:, 0]  # First column\n",
    "flows = data[:, 1]      # Second column\n",
    "\n",
    "# Create the scatter plot\n",
    "plt.scatter(densities, flows, alpha=0.5, edgecolors='w', s=100)\n",
    "plt.xlabel('Average Density (veh/km)')\n",
    "plt.ylabel('Average Flow (veh/hr)')\n",
    "plt.title('Macroscopic Fundamental Diagram (MFD)')\n",
    "plt.grid(True)\n",
    "plt.show()"
   ]
  },
  {
   "cell_type": "code",
   "execution_count": 9,
   "id": "7c107d59-4a7d-439a-9124-489ae8ba34f3",
   "metadata": {},
   "outputs": [
    {
     "name": "stdout",
     "output_type": "stream",
     "text": [
      "[828.6237, 884.409, 869.648, 882.61, 878.224]\n",
      "868.70294\n",
      "534.4939598680005\n",
      "23.11912541312929\n"
     ]
    },
    {
     "data": {
      "text/plain": [
       "23.11912541312929"
      ]
     },
     "execution_count": 9,
     "metadata": {},
     "output_type": "execute_result"
    }
   ],
   "source": [
    "import statistics\n",
    "T=[]\n",
    "T.append(828.6237)\n",
    "T.append(884.409)\n",
    "T.append(869.648)\n",
    "T.append(882.610)\n",
    "T.append(878.224)\n",
    "print(T)\n",
    "print(statistics.mean(T))\n",
    "print(statistics.variance(T))\n",
    "print(statistics.stdev(T))\n",
    "np.sqrt(534.4939598680005)"
   ]
  },
  {
   "cell_type": "code",
   "execution_count": 4,
   "id": "fa8e3a03-11f6-4cfa-9716-336537c3b858",
   "metadata": {},
   "outputs": [
    {
     "ename": "ModuleNotFoundError",
     "evalue": "No module named 'control'",
     "output_type": "error",
     "traceback": [
      "\u001b[1;31m---------------------------------------------------------------------------\u001b[0m",
      "\u001b[1;31mModuleNotFoundError\u001b[0m                       Traceback (most recent call last)",
      "Cell \u001b[1;32mIn[4], line 2\u001b[0m\n\u001b[0;32m      1\u001b[0m \u001b[38;5;28;01mimport\u001b[39;00m \u001b[38;5;21;01mnumpy\u001b[39;00m \u001b[38;5;28;01mas\u001b[39;00m \u001b[38;5;21;01mnp\u001b[39;00m\n\u001b[1;32m----> 2\u001b[0m \u001b[38;5;28;01mimport\u001b[39;00m \u001b[38;5;21;01mcontrol\u001b[39;00m\n\u001b[0;32m      4\u001b[0m \u001b[38;5;66;03m# System matrices (example system)\u001b[39;00m\n\u001b[0;32m      5\u001b[0m A \u001b[38;5;241m=\u001b[39m np\u001b[38;5;241m.\u001b[39marray([[\u001b[38;5;241m1.1\u001b[39m, \u001b[38;5;241m0.1\u001b[39m], \n\u001b[0;32m      6\u001b[0m               [\u001b[38;5;241m0\u001b[39m, \u001b[38;5;241m1\u001b[39m]])\n",
      "\u001b[1;31mModuleNotFoundError\u001b[0m: No module named 'control'"
     ]
    }
   ],
   "source": [
    "import numpy as np\n",
    "import control\n",
    "\n",
    "# System matrices (example system)\n",
    "A = np.array([[1.1, 0.1], \n",
    "              [0, 1]])\n",
    "B = np.array([[0.1], \n",
    "              [1]])\n",
    "\n",
    "# Cost matrices\n",
    "Q = np.eye(2)  # State cost matrix\n",
    "R = np.eye(1)  # Control input cost matrix\n",
    "\n",
    "# Reference trajectory (constant for simplicity)\n",
    "x_ref = np.array([10, 0])\n",
    "\n",
    "# Solve the LQR problem to obtain feedback gain K and the Riccati matrix P\n",
    "K, P, _ = control.lqr(A, B, Q, R)\n",
    "\n",
    "# Calculate the feedforward term to handle the non-zero reference\n",
    "u_ff = -np.linalg.inv(R + B.T @ P @ B) @ B.T @ P @ (A - np.eye(2)) @ x_ref\n",
    "\n",
    "# Simulation using the computed control law\n",
    "def simulate_lqr_tracking(x0, num_steps):\n",
    "    \"\"\"\n",
    "    Simulates the system under LQR control with reference tracking.\n",
    "\n",
    "    Args:\n",
    "        x0 (np.array): Initial state.\n",
    "        num_steps (int): Number of simulation steps.\n",
    "\n",
    "    Returns:\n",
    "        np.array: History of state trajectories.\n",
    "        np.array: History of control inputs.\n",
    "    \"\"\"\n",
    "    x_history = [x0]\n",
    "    u_history = []\n",
    "\n",
    "    for _ in range(num_steps):\n",
    "        # Deviation from reference\n",
    "        delta_x = x_history[-1] - x_ref\n",
    "\n",
    "        # Control input\n",
    "        u_opt = -K @ delta_x + u_ff\n",
    "        u_history.append(u_opt)\n",
    "\n",
    "        # Update state\n",
    "        x_next = A @ x_history[-1] + B @ u_opt\n",
    "        x_history.append(x_next)\n",
    "\n",
    "    return np.array(x_history), np.array(u_history)\n",
    "\n",
    "# Initial state\n",
    "x0 = np.array([1, 0])\n",
    "\n",
    "# Number of simulation steps\n",
    "num_steps = 20\n",
    "\n",
    "# Run the simulation\n",
    "x_history, u_history = simulate_lqr_tracking(x0, num_steps)\n",
    "\n",
    "# Print results\n",
    "print(\"State trajectory using LQR with tracking:\")\n",
    "print(x_history)\n",
    "print(\"Control inputs using LQR with tracking:\")\n",
    "print(u_history)\n"
   ]
  },
  {
   "cell_type": "code",
   "execution_count": 7,
   "id": "ce629870-bfb7-46e4-b190-f8c7562340a6",
   "metadata": {},
   "outputs": [
    {
     "data": {
      "image/png": "[encoded data removed]",
      "text/plain": [
       "<Figure size 800x800 with 1 Axes>"
      ]
     },
     "metadata": {},
     "output_type": "display_data"
    },
    {
     "name": "stdout",
     "output_type": "stream",
     "text": [
      "Neighbors of node 0: [5, 1]\n",
      "Neighbors of node 1: [0, 6, 2]\n",
      "Neighbors of node 2: [1, 7, 3]\n",
      "Neighbors of node 3: [2, 8, 4]\n",
      "Neighbors of node 4: [3, 9]\n",
      "Neighbors of node 5: [0, 10, 6]\n",
      "Neighbors of node 6: [1, 5, 11, 7]\n",
      "Neighbors of node 7: [2, 6, 12, 8]\n",
      "Neighbors of node 8: [3, 7, 13, 9]\n",
      "Neighbors of node 9: [4, 8, 14]\n",
      "Neighbors of node 10: [5, 15, 11]\n",
      "Neighbors of node 11: [6, 10, 16, 12]\n",
      "Neighbors of node 12: [7, 11, 17, 13]\n",
      "Neighbors of node 13: [8, 12, 18, 14]\n",
      "Neighbors of node 14: [9, 13, 19]\n",
      "Neighbors of node 15: [10, 20, 16]\n",
      "Neighbors of node 16: [11, 15, 21, 17]\n",
      "Neighbors of node 17: [12, 16, 22, 18]\n",
      "Neighbors of node 18: [13, 17, 23, 19]\n",
      "Neighbors of node 19: [14, 18, 24]\n",
      "Neighbors of node 20: [15, 21]\n",
      "Neighbors of node 21: [16, 20, 22]\n",
      "Neighbors of node 22: [17, 21, 23]\n",
      "Neighbors of node 23: [18, 22, 24]\n",
      "Neighbors of node 24: [19, 23]\n"
     ]
    }
   ],
   "source": [
    "import networkx as nx\n",
    "import matplotlib.pyplot as plt\n",
    "\n",
    "def create_reordered_mesh_graph(m, n):\n",
    "    # Create a 2D grid graph (mesh grid)\n",
    "    G_2d = nx.grid_2d_graph(m, n)\n",
    "    \n",
    "    # Map 2D coordinates (i, j) to 1D indices\n",
    "    mapping = {(i, j): i * n + j for i in range(m) for j in range(n)}\n",
    "    \n",
    "    # Relabel the nodes to 1D ordering\n",
    "    G_1d = nx.relabel_nodes(G_2d, mapping)\n",
    "    \n",
    "    return G_1d\n",
    "\n",
    "# Define the grid size (m x n)\n",
    "m, n = 5, 5  # You can change m and n to any desired grid size\n",
    "\n",
    "# Create the reordered mesh graph\n",
    "G = create_reordered_mesh_graph(m, n)\n",
    "\n",
    "# Plot the reordered graph\n",
    "plt.figure(figsize=(8, 8))\n",
    "pos = {i: (i % n, i // n) for i in range(m * n)}  # Reconstruct the 2D positions for visualization\n",
    "nx.draw(G, pos, with_labels=True, node_color='skyblue', node_size=500, edge_color='gray', font_size=10)\n",
    "plt.title(f'Reordered 2D Mesh Grid Graph ({m}x{n}) with 1D Node Indexing')\n",
    "plt.show()\n",
    "\n",
    "# Example: Print neighbors for each node in 1D ordering\n",
    "for i in range(m * n):\n",
    "    print(f\"Neighbors of node {i}: {list(G.neighbors(i))}\")\n"
   ]
  }
 ],
 "metadata": {
  "kernelspec": {
   "display_name": "Python 3 (ipykernel)",
   "language": "python",
   "name": "python3"
  },
  "language_info": {
   "codemirror_mode": {
    "name": "ipython",
    "version": 3
   },
   "file_extension": ".py",
   "mimetype": "text/x-python",
   "name": "python",
   "nbconvert_exporter": "python",
   "pygments_lexer": "ipython3",
   "version": "3.12.4"
  }
 },
 "nbformat": 4,
 "nbformat_minor": 5
}
