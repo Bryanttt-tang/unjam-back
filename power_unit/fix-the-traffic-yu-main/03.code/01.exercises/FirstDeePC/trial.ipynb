{
 "cells": [
  {
   "cell_type": "code",
   "execution_count": 1,
   "id": "a0953d51",
   "metadata": {},
   "outputs": [],
   "source": [
    "import numpy as np"
   ]
  },
  {
   "cell_type": "code",
   "execution_count": 4,
   "id": "c5176766",
   "metadata": {},
   "outputs": [],
   "source": [
    "a=np.ones(8)\n",
    "a[2:4]=4"
   ]
  },
  {
   "cell_type": "code",
   "execution_count": 6,
   "id": "92f67bb7",
   "metadata": {},
   "outputs": [
    {
     "data": {
      "text/plain": [
       "array([3., 3., 4., 4., 5., 5., 1., 1.])"
      ]
     },
     "execution_count": 6,
     "metadata": {},
     "output_type": "execute_result"
    }
   ],
   "source": [
    "a[0:2]=3\n",
    "a[2:4]=4\n",
    "a[4:6]=5\n",
    "a"
   ]
  },
  {
   "cell_type": "code",
   "execution_count": 9,
   "id": "cdbbcc85",
   "metadata": {},
   "outputs": [
    {
     "name": "stdout",
     "output_type": "stream",
     "text": [
      "Hankel Matrix:\n",
      "[2, 2, 2, 1, 2]\n",
      "[2, 2, 1, 2, 2]\n",
      "[2, 1, 2, 2, 2]\n",
      "[1, 2, 2, 2, 2]\n"
     ]
    }
   ],
   "source": [
    "def hankel_matrix_with_equal_off_diagonal(n, m, off_diagonal_value=0, diagonal_value=1):\n",
    "    hankel = [[off_diagonal_value] * m for _ in range(n)]\n",
    "    for i in range(n):\n",
    "        for j in range(m):\n",
    "            hankel[i][j] = diagonal_value if i + j == n - 1 else off_diagonal_value\n",
    "    return hankel\n",
    "\n",
    "# Example usage:\n",
    "n = 4  # Number of rows\n",
    "m = 5  # Number of columns\n",
    "off_diagonal_value = 2  # Value for off-diagonal elements\n",
    "diagonal_value = 1  # Value for diagonal elements\n",
    "hankel = hankel_matrix_with_equal_off_diagonal(n, m, off_diagonal_value, diagonal_value)\n",
    "print(\"Hankel Matrix:\")\n",
    "for row in hankel:\n",
    "    print(row)"
   ]
  },
  {
   "cell_type": "code",
   "execution_count": 13,
   "id": "6ce68013",
   "metadata": {},
   "outputs": [
    {
     "name": "stdout",
     "output_type": "stream",
     "text": [
      "[[  1.   10.  100. ]\n",
      " [  2.   20.  200. ]\n",
      " [  3.   30.  300. ]\n",
      " [ 10.  100.  100.1]\n",
      " [ 20.  200.  200.1]\n",
      " [ 30.  300.  300.1]\n",
      " [100.  100.1   1.1]\n",
      " [200.  200.1   2.2]\n",
      " [300.  300.1   3.3]]\n"
     ]
    }
   ],
   "source": [
    "v1 = np.array([1, 2, 3]).reshape((-1, 1))\n",
    "v2 = np.array([10, 20, 30]).reshape((-1, 1))\n",
    "v3 = np.array([100, 200, 300]).reshape((-1, 1))\n",
    "v4 = np.array([100.1, 200.1, 300.1]).reshape((-1, 1))\n",
    "v5 = np.array([1.1, 2.2, 3.3]).reshape((-1, 1))\n",
    "\n",
    "X = np.hstack((v1, v2, v3, v4, v5))\n",
    "M = 5\n",
    "d = 3\n",
    "\n",
    "X_ = np.zeros((d * X.shape[0], X.shape[1]+1-d))\n",
    "for i in range (d):\n",
    "   X_[i*X.shape[0]:(i+1) * X.shape[0], :] = X[:X.shape[0], i:i+(X.shape[1]+1-d)]\n",
    "                                              \n",
    "print(X_)                                             "
   ]
  }
 ],
 "metadata": {
  "kernelspec": {
   "display_name": "Python 3",
   "language": "python",
   "name": "python3"
  },
  "language_info": {
   "codemirror_mode": {
    "name": "ipython",
    "version": 3
   },
   "file_extension": ".py",
   "mimetype": "text/x-python",
   "name": "python",
   "nbconvert_exporter": "python",
   "pygments_lexer": "ipython3",
   "version": "3.8.8"
  }
 },
 "nbformat": 4,
 "nbformat_minor": 5
}
